{
 "cells": [
  {
   "cell_type": "code",
   "execution_count": 3,
   "id": "2d9b12c9-100f-448b-baf5-ffeeb4095e0c",
   "metadata": {},
   "outputs": [
    {
     "name": "stdout",
     "output_type": "stream",
     "text": [
      "      1   2   3   4   5   6   7   8   9  10  11  12\n",
      "-----------------------------------------------------\n",
      " 1 |   1   2   3   4   5   6   7   8   9  10  11  12\n",
      " 2 |   2   4   6   8  10  12  14  16  18  20  22  24\n",
      " 3 |   3   6   9  12  15  18  21  24  27  30  33  36\n",
      " 4 |   4   8  12  16  20  24  28  32  36  40  44  48\n",
      " 5 |   5  10  15  20  25  30  35  40  45  50  55  60\n",
      " 6 |   6  12  18  24  30  36  42  48  54  60  66  72\n",
      " 7 |   7  14  21  28  35  42  49  56  63  70  77  84\n",
      " 8 |   8  16  24  32  40  48  56  64  72  80  88  96\n",
      " 9 |   9  18  27  36  45  54  63  72  81  90  99 108\n",
      "10 |  10  20  30  40  50  60  70  80  90 100 110 120\n",
      "11 |  11  22  33  44  55  66  77  88  99 110 121 132\n",
      "12 |  12  24  36  48  60  72  84  96 108 120 132 144\n"
     ]
    }
   ],
   "source": [
    "# Question 1\n",
    "def multiplication_table():\n",
    "    # Header\n",
    "    print(\"   \", end=\"\")\n",
    "    for i in range(1, 13):\n",
    "        print(f\"{i:4}\", end=\"\")\n",
    "    print(\"\\n\" + \"-\" * 53)\n",
    "\n",
    "    # Table\n",
    "    for i in range(1, 13):\n",
    "        print(f\"{i:2} |\", end=\"\")  \n",
    "        for j in range(1, 13):\n",
    "            print(f\"{i * j:4}\", end=\"\")\n",
    "        print()  \n",
    "\n",
    "multiplication_table()"
   ]
  },
  {
   "cell_type": "code",
   "execution_count": 5,
   "id": "6d8f7572-1e1f-4e13-a831-e3b86fc8e4fd",
   "metadata": {},
   "outputs": [
    {
     "name": "stdin",
     "output_type": "stream",
     "text": [
      "Enter a string to check if it's a palindrome (type 'q' to quit):  aba\n"
     ]
    },
    {
     "name": "stdout",
     "output_type": "stream",
     "text": [
      "'aba' is a palindrome.\n"
     ]
    },
    {
     "name": "stdin",
     "output_type": "stream",
     "text": [
      "Enter a string to check if it's a palindrome (type 'q' to quit):  q\n"
     ]
    },
    {
     "name": "stdout",
     "output_type": "stream",
     "text": [
      "Terminated\n"
     ]
    }
   ],
   "source": [
    "# Question 2\n",
    "def is_palindrome(s):\n",
    "    # Remove spaces and convert to lowercase for comparison\n",
    "    s = s.replace(\" \", \"\").lower()\n",
    "    return s == s[::-1]\n",
    "\n",
    "def main():\n",
    "    while True:\n",
    "        user_input = input(\"Enter a string to check if it's a palindrome (type 'q' to quit): \").strip()\n",
    "        if user_input.lower() == 'q':\n",
    "            print(\"Terminated\")\n",
    "            break\n",
    "        if is_palindrome(user_input):\n",
    "            print(f\"'{user_input}' is a palindrome.\")\n",
    "        else:\n",
    "            print(f\"'{user_input}' is not a palindrome.\")\n",
    "\n",
    "main()"
   ]
  },
  {
   "cell_type": "code",
   "execution_count": 8,
   "id": "17cbf477-2e5f-4e46-8aa0-ec2f1876b48e",
   "metadata": {},
   "outputs": [
    {
     "name": "stdout",
     "output_type": "stream",
     "text": [
      "Enter two lists in the format: [a,b,c], [1,2,3]\n"
     ]
    },
    {
     "name": "stdin",
     "output_type": "stream",
     "text": [
      " [a,b,c],[1,2,3]\n"
     ]
    },
    {
     "name": "stdout",
     "output_type": "stream",
     "text": [
      "['a', '1', 'b', '2', 'c', '3']\n"
     ]
    }
   ],
   "source": [
    "# Question 3\n",
    "def parse_input_list(input_str):\n",
    "    cleaned = input_str.strip('[]').split(',')\n",
    "    return [item.strip() for item in cleaned]\n",
    "\n",
    "def combine_lists(list1, list2):\n",
    "    if len(list1) != len(list2):\n",
    "        return \"Error: Lists must be of equal length\"\n",
    "    \n",
    "    result = [val for pair in zip(list1, list2) for val in pair]\n",
    "    return result\n",
    "    \n",
    "# Get input from user\n",
    "print(\"Enter two lists in the format: [a,b,c], [1,2,3]\")\n",
    "user_input = input().split('],')\n",
    "\n",
    "if len(user_input) != 2:\n",
    "    print(\"Error: Please enter exactly two lists\")\n",
    "else:\n",
    "    # Parse both lists\n",
    "    first_list = parse_input_list(user_input[0])\n",
    "    second_list = parse_input_list(user_input[1] + ']')  # Add back the removed bracket\n",
    "    \n",
    "    # Combine and print result\n",
    "    result = combine_lists(first_list, second_list)\n",
    "    print(result)"
   ]
  },
  {
   "cell_type": "code",
   "execution_count": 9,
   "id": "85435e81-887f-4f3b-8ae5-8cd12688a867",
   "metadata": {},
   "outputs": [
    {
     "name": "stdout",
     "output_type": "stream",
     "text": [
      "F(1): 1\n",
      "F(2): 1\n",
      "F(3): 2\n",
      "F(4): 3\n",
      "F(5): 5\n",
      "F(6): 8\n",
      "F(7): 13\n",
      "F(8): 21\n",
      "F(9): 34\n",
      "F(10): 55\n",
      "F(11): 89\n",
      "F(12): 144\n",
      "F(13): 233\n",
      "F(14): 377\n",
      "F(15): 610\n",
      "F(16): 987\n",
      "F(17): 1597\n",
      "F(18): 2584\n",
      "F(19): 4181\n",
      "F(20): 6765\n",
      "F(21): 10946\n",
      "F(22): 17711\n",
      "F(23): 28657\n",
      "F(24): 46368\n",
      "F(25): 75025\n",
      "F(26): 121393\n",
      "F(27): 196418\n",
      "F(28): 317811\n",
      "F(29): 514229\n",
      "F(30): 832040\n",
      "F(31): 1346269\n",
      "F(32): 2178309\n",
      "F(33): 3524578\n",
      "F(34): 5702887\n",
      "F(35): 9227465\n",
      "F(36): 14930352\n",
      "F(37): 24157817\n",
      "F(38): 39088169\n",
      "F(39): 63245986\n",
      "F(40): 102334155\n",
      "F(41): 165580141\n",
      "F(42): 267914296\n",
      "F(43): 433494437\n",
      "F(44): 701408733\n",
      "F(45): 1134903170\n",
      "F(46): 1836311903\n",
      "F(47): 2971215073\n",
      "F(48): 4807526976\n",
      "F(49): 7778742049\n",
      "F(50): 12586269025\n",
      "F(51): 20365011074\n",
      "F(52): 32951280099\n",
      "F(53): 53316291173\n",
      "F(54): 86267571272\n",
      "F(55): 139583862445\n",
      "F(56): 225851433717\n",
      "F(57): 365435296162\n",
      "F(58): 591286729879\n",
      "F(59): 956722026041\n",
      "F(60): 1548008755920\n",
      "F(61): 2504730781961\n",
      "F(62): 4052739537881\n",
      "F(63): 6557470319842\n",
      "F(64): 10610209857723\n",
      "F(65): 17167680177565\n",
      "F(66): 27777890035288\n",
      "F(67): 44945570212853\n",
      "F(68): 72723460248141\n",
      "F(69): 117669030460994\n",
      "F(70): 190392490709135\n",
      "F(71): 308061521170129\n",
      "F(72): 498454011879264\n",
      "F(73): 806515533049393\n",
      "F(74): 1304969544928657\n",
      "F(75): 2111485077978050\n",
      "F(76): 3416454622906707\n",
      "F(77): 5527939700884757\n",
      "F(78): 8944394323791464\n",
      "F(79): 14472334024676221\n",
      "F(80): 23416728348467685\n",
      "F(81): 37889062373143906\n",
      "F(82): 61305790721611591\n",
      "F(83): 99194853094755497\n",
      "F(84): 160500643816367088\n",
      "F(85): 259695496911122585\n",
      "F(86): 420196140727489673\n",
      "F(87): 679891637638612258\n",
      "F(88): 1100087778366101931\n",
      "F(89): 1779979416004714189\n",
      "F(90): 2880067194370816120\n",
      "F(91): 4660046610375530309\n",
      "F(92): 7540113804746346429\n",
      "F(93): 12200160415121876738\n",
      "F(94): 19740274219868223167\n",
      "F(95): 31940434634990099905\n",
      "F(96): 51680708854858323072\n",
      "F(97): 83621143489848422977\n",
      "F(98): 135301852344706746049\n",
      "F(99): 218922995834555169026\n",
      "F(100): 354224848179261915075\n"
     ]
    }
   ],
   "source": [
    "# Question 4\n",
    "def fibonacci():\n",
    "    fib = [1, 1]\n",
    "    \n",
    "    for i in range(98):  # need 98 more\n",
    "        fib.append(fib[-1] + fib[-2])  # Add the last two numbers\n",
    "    \n",
    "    # Print numbers with their position\n",
    "    for i, num in enumerate(fib, 1):  \n",
    "        print(f\"F({i}): {num}\")\n",
    "\n",
    "fibonacci()"
   ]
  },
  {
   "cell_type": "code",
   "execution_count": 16,
   "id": "286d1abe-a427-44ff-81e7-dea34f1d887f",
   "metadata": {},
   "outputs": [
    {
     "name": "stdout",
     "output_type": "stream",
     "text": [
      "Enter a year:\n"
     ]
    },
    {
     "name": "stdin",
     "output_type": "stream",
     "text": [
      " 1900\n"
     ]
    },
    {
     "name": "stdout",
     "output_type": "stream",
     "text": [
      "1900 is not a leap year\n"
     ]
    }
   ],
   "source": [
    "# Question 5\n",
    "def is_leap_year(year):\n",
    "    \n",
    "    try:\n",
    "        year = int(year)\n",
    "    except ValueError:\n",
    "        return \"Error: Please enter a valid year\"\n",
    "    \n",
    "    # Check if year is negative\n",
    "    if year < 0:\n",
    "        return \"Error: Please enter a positive year\"\n",
    "    \n",
    "    # Check if year is leap year\n",
    "    if (year % 4 == 0 and year % 100 != 0) or (year % 400 == 0):\n",
    "        return f\"{year} is a leap year\"\n",
    "    else:\n",
    "        return f\"{year} is not a leap year\"\n",
    "\n",
    "# Get input from user\n",
    "print(\"Enter a year:\")\n",
    "year = input()\n",
    "\n",
    "print(is_leap_year(year))"
   ]
  },
  {
   "cell_type": "code",
   "execution_count": null,
   "id": "1cbf8ee9-a2b0-401d-8c63-0041dd4620bb",
   "metadata": {},
   "outputs": [],
   "source": []
  }
 ],
 "metadata": {
  "kernelspec": {
   "display_name": "Python 3 (ipykernel)",
   "language": "python",
   "name": "python3"
  },
  "language_info": {
   "codemirror_mode": {
    "name": "ipython",
    "version": 3
   },
   "file_extension": ".py",
   "mimetype": "text/x-python",
   "name": "python",
   "nbconvert_exporter": "python",
   "pygments_lexer": "ipython3",
   "version": "3.12.8"
  }
 },
 "nbformat": 4,
 "nbformat_minor": 5
}
